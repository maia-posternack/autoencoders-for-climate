{
 "cells": [
  {
   "cell_type": "code",
   "execution_count": 1,
   "id": "bc32efa8-d352-4948-952b-3f95c1a40667",
   "metadata": {},
   "outputs": [],
   "source": [
    "from functions import *"
   ]
  },
  {
   "cell_type": "code",
   "execution_count": 2,
   "id": "9bbfcd01-4ecd-410e-b2ab-aab27643a396",
   "metadata": {},
   "outputs": [],
   "source": [
    "psl_all = xr.open_dataset(atm_dir_100 + 'b.e21.B1850CLM50SP.f09_g17.21ka.01.cam.h0.PSL.040101-050012.nc')['PSL']\n",
    "smb_all = xr.open_dataset(lnd_dir_100 + 'b.e21.B1850CLM50SP.f09_g17.21ka.01.clm2.h0.QICE.040101-050012.nc')[\"QICE\"]\n",
    "qice_melt_all = xr.open_dataset(lnd_dir_100 + 'b.e21.B1850CLM50SP.f09_g17.21ka.01.clm2.h0.QICE_MELT.040101-050012.nc')[\"QICE_MELT\"]"
   ]
  },
  {
   "cell_type": "code",
   "execution_count": 3,
   "id": "452f397f-d26e-4fe8-9eb5-2e358718d94b",
   "metadata": {},
   "outputs": [
    {
     "name": "stdout",
     "output_type": "stream",
     "text": [
      "______________\n",
      "PROCESSING DATA\n",
      "converting data to m/s\n",
      "deseasonalizing data\n",
      "slicing data\n",
      "______________\n",
      "CONVERTING TO 2D\n",
      "time 1200 lat 43 long 102\n",
      "finished finding nans\n",
      "total nans 3086\n",
      "up through 0\n",
      "up through 50\n",
      "up through 100\n",
      "up through 150\n",
      "up through 200\n",
      "up through 250\n",
      "up through 300\n",
      "up through 350\n",
      "up through 400\n",
      "up through 450\n",
      "up through 500\n",
      "up through 550\n",
      "up through 600\n",
      "up through 650\n",
      "up through 700\n",
      "up through 750\n",
      "up through 800\n",
      "up through 850\n",
      "up through 900\n",
      "up through 950\n",
      "up through 1000\n",
      "up through 1050\n",
      "up through 1100\n",
      "up through 1150\n",
      "X shape (1300, 1200)\n",
      "______________\n"
     ]
    }
   ],
   "source": [
    "print(\"______________\")\n",
    "print(\"PROCESSING DATA\")\n",
    "smb_processed = preprocess_eurasia(smb_all)\n",
    "print(\"______________\")\n",
    "print(\"CONVERTING TO 2D\")\n",
    "smb_X_dimensional, smb_longs, smb_lats, smb_long_length, smb_lat_length = nans_3d_to_2d(smb_processed)\n",
    "print(\"______________\")"
   ]
  },
  {
   "cell_type": "code",
   "execution_count": 15,
   "id": "fb86b60f-9e43-4beb-9521-75fc45ca74e2",
   "metadata": {},
   "outputs": [
    {
     "name": "stdout",
     "output_type": "stream",
     "text": [
      "data saved\n"
     ]
    }
   ],
   "source": [
    "data = xr.Dataset(\n",
    "    {\n",
    "        \"data\": ([\"data\", \"month\"], smb_X_dimensional),\n",
    "        \"long_pos\":  ([\"long_pos\"], smb_longs), \n",
    "        \"lat_pos\":([\"lat_pos\"], smb_lats),\n",
    "        \"long_length\": ([], smb_long_length),\n",
    "        \"lat_length\": ([], smb_lat_length),\n",
    "        \"original\": ([\"t\", \"lat\", \"lon\"], smb_processed.values),\n",
    "    },\n",
    "    coords={\n",
    "        \"t\": smb_processed.time,\n",
    "        \"lat\": smb_processed.lat,\n",
    "        \"lon\": smb_processed.lon,\n",
    "    }  \n",
    ")\n",
    "\n",
    "data.to_netcdf(\"eurasian_qice_no_mask_100.nc\")\n",
    "print(\"data saved\")"
   ]
  },
  {
   "cell_type": "code",
   "execution_count": 5,
   "id": "edfc3122-5cb4-4657-9844-1d8db0c034a5",
   "metadata": {},
   "outputs": [
    {
     "name": "stdout",
     "output_type": "stream",
     "text": [
      "______________\n",
      "PROCESSING DATA\n",
      "converting data to m/s\n",
      "deseasonalizing data\n",
      "slicing data\n",
      "______________\n",
      "CONVERTING TO 2D\n",
      "time 1200 lat 43 long 102\n",
      "finished finding nans\n",
      "total nans 3086\n",
      "up through 0\n",
      "up through 50\n",
      "up through 100\n",
      "up through 150\n",
      "up through 200\n",
      "up through 250\n",
      "up through 300\n",
      "up through 350\n",
      "up through 400\n",
      "up through 450\n",
      "up through 500\n",
      "up through 550\n",
      "up through 600\n",
      "up through 650\n",
      "up through 700\n",
      "up through 750\n",
      "up through 800\n",
      "up through 850\n",
      "up through 900\n",
      "up through 950\n",
      "up through 1000\n",
      "up through 1050\n",
      "up through 1100\n",
      "up through 1150\n",
      "X shape (1300, 1200)\n",
      "______________\n"
     ]
    }
   ],
   "source": [
    "print(\"______________\")\n",
    "print(\"PROCESSING DATA\")\n",
    "qice_melt_processed = preprocess_eurasia(qice_melt_all)\n",
    "print(\"______________\")\n",
    "print(\"CONVERTING TO 2D\")\n",
    "qice_melt_X_dimensional, qice_melt_longs, qice_melt_lats, qice_melt_long_length, qice_melt_lat_length = nans_3d_to_2d(qice_melt_processed)\n",
    "print(\"______________\")"
   ]
  },
  {
   "cell_type": "code",
   "execution_count": 16,
   "id": "6c4ece7e-d889-43de-bb2c-1bd27b88bfa9",
   "metadata": {},
   "outputs": [
    {
     "name": "stdout",
     "output_type": "stream",
     "text": [
      "data saved\n"
     ]
    }
   ],
   "source": [
    "data = xr.Dataset(\n",
    "    {\n",
    "        \"data\": ([\"data\", \"time\"], qice_melt_X_dimensional),\n",
    "        \"long_pos\":  ([\"long_pos\"], qice_melt_longs), \n",
    "        \"lat_pos\":([\"lat_pos\"], qice_melt_lats),\n",
    "        \"long_length\": ([], qice_melt_long_length),\n",
    "        \"lat_length\": ([], qice_melt_lat_length),\n",
    "        \"original\": ([\"t\", \"lat\", \"lon\"], qice_melt_processed.values),\n",
    "    },\n",
    "    coords={\n",
    "        \"t\": qice_melt_processed.time,\n",
    "        \"lat\": qice_melt_processed.lat,\n",
    "        \"lon\": qice_melt_processed.lon,\n",
    "    }  \n",
    ")\n",
    "\n",
    "data.to_netcdf(\"eurasian_qice_melt_no_mask_100.nc\")\n",
    "print(\"data saved\")"
   ]
  },
  {
   "cell_type": "code",
   "execution_count": 7,
   "id": "fe7408e8-0c59-416c-968d-1c53f1ae7fc5",
   "metadata": {},
   "outputs": [
    {
     "name": "stdout",
     "output_type": "stream",
     "text": [
      "______________\n",
      "PROCESSING DATA\n",
      "converting data to m/s\n",
      "deseasonalizing data\n",
      "adding ice mask\n",
      "slicing data\n",
      "______________\n",
      "CONVERTING TO 2D\n",
      "time 1200 lat 43 long 102\n",
      "finished finding nans\n",
      "total nans 3405\n",
      "up through 0\n",
      "up through 50\n",
      "up through 100\n",
      "up through 150\n",
      "up through 200\n",
      "up through 250\n",
      "up through 300\n",
      "up through 350\n",
      "up through 400\n",
      "up through 450\n",
      "up through 500\n",
      "up through 550\n",
      "up through 600\n",
      "up through 650\n",
      "up through 700\n",
      "up through 750\n",
      "up through 800\n",
      "up through 850\n",
      "up through 900\n",
      "up through 950\n",
      "up through 1000\n",
      "up through 1050\n",
      "up through 1100\n",
      "up through 1150\n",
      "X shape (981, 1200)\n"
     ]
    }
   ],
   "source": [
    "print(\"______________\")\n",
    "print(\"PROCESSING DATA\")\n",
    "smb_100_ice = preprocess_eurasia(smb_all, create_ice_mask(smb_all))\n",
    "print(\"______________\")\n",
    "print(\"CONVERTING TO 2D\")\n",
    "smb100_X_dimensional, smb100_longs, smb100_lats, smb100_long_length, smb100_lat_length = nans_3d_to_2d(smb_100_ice)"
   ]
  },
  {
   "cell_type": "code",
   "execution_count": 17,
   "id": "a75af68f-f8e6-4b3b-8cce-a64a713925b3",
   "metadata": {},
   "outputs": [
    {
     "name": "stdout",
     "output_type": "stream",
     "text": [
      "data saved\n"
     ]
    }
   ],
   "source": [
    "data = xr.Dataset(\n",
    "    {\n",
    "        \"data\": ([\"data\", \"time\"], smb100_X_dimensional),\n",
    "        \"long_pos\":  ([\"long_pos\"], smb100_longs), \n",
    "        \"lat_pos\":([\"lat_pos\"], smb100_lats),\n",
    "        \"long_length\": ([], smb100_long_length),\n",
    "        \"lat_length\": ([], smb100_lat_length),\n",
    "        \"original\": ([\"t\", \"lat\", \"lon\"], smb_100_ice.values),\n",
    "    },\n",
    "    coords={\n",
    "        \"t\": smb_100_ice.time,\n",
    "        \"lat\": smb_100_ice.lat,\n",
    "        \"lon\": smb_100_ice.lon,\n",
    "    }  \n",
    ")\n",
    "\n",
    "data.to_netcdf(\"eurasian_qice_with_mask_100.nc\")\n",
    "print(\"data saved\")"
   ]
  },
  {
   "cell_type": "code",
   "execution_count": 9,
   "id": "f60f53bc-f628-4e91-8e2c-0a88127aedc8",
   "metadata": {},
   "outputs": [
    {
     "name": "stdout",
     "output_type": "stream",
     "text": [
      "______________\n",
      "PROCESSING DATA\n",
      "converting data to m/s\n",
      "deseasonalizing data\n",
      "adding ice mask\n",
      "slicing data\n",
      "______________\n",
      "CONVERTING TO 2D\n",
      "time 1200 lat 43 long 102\n",
      "finished finding nans\n",
      "total nans 3405\n",
      "up through 0\n",
      "up through 50\n",
      "up through 100\n",
      "up through 150\n",
      "up through 200\n",
      "up through 250\n",
      "up through 300\n",
      "up through 350\n",
      "up through 400\n",
      "up through 450\n",
      "up through 500\n",
      "up through 550\n",
      "up through 600\n",
      "up through 650\n",
      "up through 850\n",
      "up through 900\n",
      "up through 950\n",
      "up through 1000\n",
      "up through 1050\n",
      "up through 1100\n",
      "up through 1150\n",
      "X shape (981, 1200)\n",
      "______________\n"
     ]
    }
   ],
   "source": [
    "print(\"______________\")\n",
    "print(\"PROCESSING DATA\")\n",
    "qice_melt_100_processed = preprocess_eurasia(qice_melt_all, create_ice_mask(qice_melt_all))\n",
    "print(\"______________\")\n",
    "print(\"CONVERTING TO 2D\")\n",
    "qice_melt_100_X_dimensional, qice_melt_100_longs, qice_melt_100_lats, qice_melt_100_long_length, qice_melt_100_lat_length = nans_3d_to_2d(qice_melt_100_processed)\n",
    "print(\"______________\")"
   ]
  },
  {
   "cell_type": "code",
   "execution_count": 19,
   "id": "4c925b14-9a34-4641-b7c1-b9e74482209d",
   "metadata": {},
   "outputs": [
    {
     "ename": "NameError",
     "evalue": "name 'qice_melt_100_longs' is not defined",
     "output_type": "error",
     "traceback": [
      "\u001b[0;31m---------------------------------------------------------------------------\u001b[0m",
      "\u001b[0;31mNameError\u001b[0m                                 Traceback (most recent call last)",
      "Cell \u001b[0;32mIn[19], line 4\u001b[0m\n\u001b[1;32m      1\u001b[0m data \u001b[38;5;241m=\u001b[39m xr\u001b[38;5;241m.\u001b[39mDataset(\n\u001b[1;32m      2\u001b[0m     {\n\u001b[1;32m      3\u001b[0m         \u001b[38;5;124m\"\u001b[39m\u001b[38;5;124mdata\u001b[39m\u001b[38;5;124m\"\u001b[39m: ([\u001b[38;5;124m\"\u001b[39m\u001b[38;5;124mdata\u001b[39m\u001b[38;5;124m\"\u001b[39m, \u001b[38;5;124m\"\u001b[39m\u001b[38;5;124mtime\u001b[39m\u001b[38;5;124m\"\u001b[39m], qice_melt_100_X_dimensional),\n\u001b[0;32m----> 4\u001b[0m         \u001b[38;5;124m\"\u001b[39m\u001b[38;5;124mlong_pos\u001b[39m\u001b[38;5;124m\"\u001b[39m:  ([\u001b[38;5;124m\"\u001b[39m\u001b[38;5;124mlong_pos\u001b[39m\u001b[38;5;124m\"\u001b[39m], \u001b[43mqice_melt_100_longs\u001b[49m), \n\u001b[1;32m      5\u001b[0m         \u001b[38;5;124m\"\u001b[39m\u001b[38;5;124mlat_pos\u001b[39m\u001b[38;5;124m\"\u001b[39m:([\u001b[38;5;124m\"\u001b[39m\u001b[38;5;124mlat_pos\u001b[39m\u001b[38;5;124m\"\u001b[39m], qice_melt_100_lats),\n\u001b[1;32m      6\u001b[0m         \u001b[38;5;124m\"\u001b[39m\u001b[38;5;124mlong_length\u001b[39m\u001b[38;5;124m\"\u001b[39m: ([], qice_melt_100_long_length),\n\u001b[1;32m      7\u001b[0m         \u001b[38;5;124m\"\u001b[39m\u001b[38;5;124mlat_length\u001b[39m\u001b[38;5;124m\"\u001b[39m: ([], qice_melt_100_lat_length),\n\u001b[1;32m      8\u001b[0m         \u001b[38;5;124m\"\u001b[39m\u001b[38;5;124moriginal\u001b[39m\u001b[38;5;124m\"\u001b[39m: ([\u001b[38;5;124m\"\u001b[39m\u001b[38;5;124mt\u001b[39m\u001b[38;5;124m\"\u001b[39m, \u001b[38;5;124m\"\u001b[39m\u001b[38;5;124mlat\u001b[39m\u001b[38;5;124m\"\u001b[39m, \u001b[38;5;124m\"\u001b[39m\u001b[38;5;124mlon\u001b[39m\u001b[38;5;124m\"\u001b[39m], qice_melt_100_processed\u001b[38;5;241m.\u001b[39mvalues),\n\u001b[1;32m      9\u001b[0m     },\n\u001b[1;32m     10\u001b[0m     coords\u001b[38;5;241m=\u001b[39m{\n\u001b[1;32m     11\u001b[0m         \u001b[38;5;124m\"\u001b[39m\u001b[38;5;124mt\u001b[39m\u001b[38;5;124m\"\u001b[39m: qice_melt_100_processed\u001b[38;5;241m.\u001b[39mtime,\n\u001b[1;32m     12\u001b[0m         \u001b[38;5;124m\"\u001b[39m\u001b[38;5;124mlat\u001b[39m\u001b[38;5;124m\"\u001b[39m: qice_melt_100_processed\u001b[38;5;241m.\u001b[39mlat,\n\u001b[1;32m     13\u001b[0m         \u001b[38;5;124m\"\u001b[39m\u001b[38;5;124mlon\u001b[39m\u001b[38;5;124m\"\u001b[39m: qice_melt_100_processed\u001b[38;5;241m.\u001b[39mlon,\n\u001b[1;32m     14\u001b[0m     }  \n\u001b[1;32m     15\u001b[0m )\n\u001b[1;32m     17\u001b[0m data\u001b[38;5;241m.\u001b[39mto_netcdf(\u001b[38;5;124m\"\u001b[39m\u001b[38;5;124meurasian_qice_melt_with_mask_100.nc\u001b[39m\u001b[38;5;124m\"\u001b[39m)\n\u001b[1;32m     18\u001b[0m \u001b[38;5;28mprint\u001b[39m(\u001b[38;5;124m\"\u001b[39m\u001b[38;5;124mdata saved\u001b[39m\u001b[38;5;124m\"\u001b[39m)\n",
      "\u001b[0;31mNameError\u001b[0m: name 'qice_melt_100_longs' is not defined"
     ]
    }
   ],
   "source": [
    "data = xr.Dataset(\n",
    "    {\n",
    "        \"data\": ([\"data\", \"time\"], qice_melt_100_X_dimensional),\n",
    "        \"long_pos\":  ([\"long_pos\"], qice_melt_100_longs), \n",
    "        \"lat_pos\":([\"lat_pos\"], qice_melt_100_lats),\n",
    "        \"long_length\": ([], qice_melt_100_long_length),\n",
    "        \"lat_length\": ([], qice_melt_100_lat_length),\n",
    "        \"original\": ([\"t\", \"lat\", \"lon\"], qice_melt_100_processed.values),\n",
    "    },\n",
    "    coords={\n",
    "        \"t\": qice_melt_100_processed.time,\n",
    "        \"lat\": qice_melt_100_processed.lat,\n",
    "        \"lon\": qice_melt_100_processed.lon,\n",
    "    }  \n",
    ")\n",
    "\n",
    "data.to_netcdf(\"eurasian_qice_melt_with_mask_100.nc\")\n",
    "print(\"data saved\")"
   ]
  },
  {
   "cell_type": "code",
   "execution_count": null,
   "id": "24e3826d-9984-4023-9955-a41eca3421e1",
   "metadata": {},
   "outputs": [],
   "source": []
  }
 ],
 "metadata": {
  "kernelspec": {
   "display_name": "NPL 2024b",
   "language": "python",
   "name": "npl-2024b"
  },
  "language_info": {
   "codemirror_mode": {
    "name": "ipython",
    "version": 3
   },
   "file_extension": ".py",
   "mimetype": "text/x-python",
   "name": "python",
   "nbconvert_exporter": "python",
   "pygments_lexer": "ipython3",
   "version": "3.11.9"
  }
 },
 "nbformat": 4,
 "nbformat_minor": 5
}
