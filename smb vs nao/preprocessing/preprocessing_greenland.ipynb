{
 "cells": [
  {
   "cell_type": "code",
   "execution_count": 1,
   "id": "bc32efa8-d352-4948-952b-3f95c1a40667",
   "metadata": {},
   "outputs": [],
   "source": [
    "from functions import *"
   ]
  },
  {
   "cell_type": "code",
   "execution_count": 2,
   "id": "9bbfcd01-4ecd-410e-b2ab-aab27643a396",
   "metadata": {},
   "outputs": [],
   "source": [
    "psl_all = xr.open_dataset(atm_dir_100 + 'b.e21.B1850CLM50SP.f09_g17.21ka.01.cam.h0.PSL.040101-050012.nc')['PSL']\n",
    "smb_all = xr.open_dataset(lnd_dir_100 + 'b.e21.B1850CLM50SP.f09_g17.21ka.01.clm2.h0.QICE.040101-050012.nc')[\"QICE\"]\n",
    "qice_melt_all = xr.open_dataset(lnd_dir_100 + 'b.e21.B1850CLM50SP.f09_g17.21ka.01.clm2.h0.QICE_MELT.040101-050012.nc')[\"QICE_MELT\"]"
   ]
  },
  {
   "cell_type": "code",
   "execution_count": 5,
   "id": "bfee6b0a-6f6a-4310-9068-b3459a1841c2",
   "metadata": {},
   "outputs": [
    {
     "name": "stdout",
     "output_type": "stream",
     "text": [
      "______________\n",
      "PROCESSING DATA\n",
      "converting data to m/s\n",
      "deseasonalizing data\n",
      "slicing data\n",
      "______________\n",
      "CONVERTING TO 2D\n",
      "time 1200 lat 34 long 52\n",
      "finished finding nans\n",
      "total nans 1041\n",
      "up through 0\n",
      "up through 50\n",
      "up through 100\n",
      "up through 150\n",
      "up through 200\n",
      "up through 250\n",
      "up through 300\n",
      "up through 350\n",
      "up through 400\n",
      "up through 450\n",
      "up through 500\n",
      "up through 550\n",
      "up through 600\n",
      "up through 650\n",
      "up through 700\n",
      "up through 750\n",
      "up through 800\n",
      "up through 850\n",
      "up through 900\n",
      "up through 950\n",
      "up through 1000\n",
      "up through 1050\n",
      "up through 1100\n",
      "up through 1150\n",
      "X shape (727, 1200)\n",
      "______________\n"
     ]
    }
   ],
   "source": [
    "print(\"______________\")\n",
    "print(\"PROCESSING DATA\")\n",
    "smb_processed = preprocess_greenland(smb_all)\n",
    "print(\"______________\")\n",
    "print(\"CONVERTING TO 2D\")\n",
    "smb_X_dimensional, smb_longs, smb_lats, smb_long_length, smb_lat_length = nans_3d_to_2d(smb_processed)\n",
    "print(\"______________\")"
   ]
  },
  {
   "cell_type": "code",
   "execution_count": 6,
   "id": "a6a57e10-9a90-411f-a80c-e2ef8f183d14",
   "metadata": {},
   "outputs": [
    {
     "name": "stdout",
     "output_type": "stream",
     "text": [
      "data saved\n"
     ]
    }
   ],
   "source": [
    "data = xr.Dataset(\n",
    "    {\n",
    "        \"data\": ([\"data\", \"month\"], smb_X_dimensional),\n",
    "        \"long_pos\":  ([\"long_pos\"], smb_longs), \n",
    "        \"lat_pos\":([\"lat_pos\"], smb_lats),\n",
    "        \"long_length\": ([], smb_long_length),\n",
    "        \"lat_length\": ([], smb_lat_length),\n",
    "        \"original\": ([\"t\", \"lat\", \"lon\"], smb_processed.values),\n",
    "    },\n",
    "    coords={\n",
    "        \"t\": smb_processed.time,\n",
    "        \"lat\": smb_processed.lat,\n",
    "        \"lon\": smb_processed.lon,\n",
    "    }   \n",
    "    \n",
    ")\n",
    "\n",
    "data.to_netcdf(\"greenland_qice_no_mask_100.nc\")\n",
    "print(\"data saved\")"
   ]
  },
  {
   "cell_type": "code",
   "execution_count": 7,
   "id": "88efe5e1-8ca4-4282-a9f6-43010b74b92f",
   "metadata": {},
   "outputs": [
    {
     "name": "stdout",
     "output_type": "stream",
     "text": [
      "______________\n",
      "PROCESSING DATA\n",
      "converting data to m/s\n",
      "deseasonalizing data\n",
      "slicing data\n",
      "______________\n",
      "CONVERTING TO 2D\n",
      "time 1200 lat 34 long 52\n",
      "finished finding nans\n",
      "total nans 1041\n",
      "up through 0\n",
      "up through 50\n",
      "up through 100\n",
      "up through 150\n",
      "up through 200\n",
      "up through 250\n",
      "up through 300\n",
      "up through 350\n",
      "up through 400\n",
      "up through 450\n",
      "up through 500\n",
      "up through 550\n",
      "up through 600\n",
      "up through 650\n",
      "up through 700\n",
      "up through 750\n",
      "up through 800\n",
      "up through 850\n",
      "up through 900\n",
      "up through 950\n",
      "up through 1000\n",
      "up through 1050\n",
      "up through 1100\n",
      "up through 1150\n",
      "X shape (727, 1200)\n",
      "______________\n"
     ]
    }
   ],
   "source": [
    "print(\"______________\")\n",
    "print(\"PROCESSING DATA\")\n",
    "qice_melt_processed = preprocess_greenland(qice_melt_all)\n",
    "print(\"______________\")\n",
    "print(\"CONVERTING TO 2D\")\n",
    "qice_melt_X_dimensional, qice_melt_longs, qice_melt_lats, qice_melt_long_length, qice_melt_lat_length = nans_3d_to_2d(qice_melt_processed)\n",
    "print(\"______________\")"
   ]
  },
  {
   "cell_type": "code",
   "execution_count": 8,
   "id": "cb9c9637-fea1-4772-8b88-52a56fa5f636",
   "metadata": {},
   "outputs": [
    {
     "name": "stdout",
     "output_type": "stream",
     "text": [
      "data saved\n"
     ]
    }
   ],
   "source": [
    "data = xr.Dataset(\n",
    "    {\n",
    "        \"data\": ([\"data\", \"time\"], qice_melt_X_dimensional),\n",
    "        \"long_pos\":  ([\"long_pos\"], qice_melt_longs), \n",
    "        \"lat_pos\":([\"lat_pos\"], qice_melt_lats),\n",
    "        \"long_length\": ([], qice_melt_long_length),\n",
    "        \"lat_length\": ([], qice_melt_lat_length),\n",
    "        \"original\": ([\"t\", \"lat\", \"lon\"], qice_melt_processed.values),\n",
    "    },\n",
    "    coords={\n",
    "        \"t\": qice_melt_processed.time,\n",
    "        \"lat\": qice_melt_processed.lat,\n",
    "        \"lon\": qice_melt_processed.lon,\n",
    "    }  \n",
    "    \n",
    ")\n",
    "\n",
    "data.to_netcdf(\"greenland_qice_melt_no_mask_100.nc\")\n",
    "print(\"data saved\")"
   ]
  },
  {
   "cell_type": "code",
   "execution_count": null,
   "id": "080ef385-4ba8-4fae-95dc-58b47fba1137",
   "metadata": {},
   "outputs": [],
   "source": []
  }
 ],
 "metadata": {
  "kernelspec": {
   "display_name": "NPL 2024b",
   "language": "python",
   "name": "npl-2024b"
  },
  "language_info": {
   "codemirror_mode": {
    "name": "ipython",
    "version": 3
   },
   "file_extension": ".py",
   "mimetype": "text/x-python",
   "name": "python",
   "nbconvert_exporter": "python",
   "pygments_lexer": "ipython3",
   "version": "3.11.9"
  }
 },
 "nbformat": 4,
 "nbformat_minor": 5
}
