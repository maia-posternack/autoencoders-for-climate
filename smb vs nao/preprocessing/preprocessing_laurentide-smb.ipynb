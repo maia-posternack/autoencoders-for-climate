{
 "cells": [
  {
   "cell_type": "code",
   "execution_count": 1,
   "id": "bc32efa8-d352-4948-952b-3f95c1a40667",
   "metadata": {},
   "outputs": [
    {
     "name": "stderr",
     "output_type": "stream",
     "text": [
      "/glade/u/apps/opt/conda/envs/npl-2024b/lib/python3.11/site-packages/xarray/conventions.py:286: SerializationWarning: variable 'psl' has multiple fill values {1e+20, 1e+20} defined, decoding all values to NaN.\n",
      "  var = coder.decode(var, name=name)\n"
     ]
    }
   ],
   "source": [
    "from functions import *"
   ]
  },
  {
   "cell_type": "code",
   "execution_count": 2,
   "id": "9bbfcd01-4ecd-410e-b2ab-aab27643a396",
   "metadata": {},
   "outputs": [],
   "source": [
    "psl_all = xr.open_dataset(atm_dir_100 + 'b.e21.B1850CLM50SP.f09_g17.21ka.01.cam.h0.PSL.040101-050012.nc')['PSL']\n",
    "sw = xr.open_dataset(lnd_dir_100 + 'b.e21.B1850CLM50SP.f09_g17.21ka.01.clm2.h0.FSA.040101-050012.nc')[\"FSA\"]\n",
    "lw = xr.open_dataset(lnd_dir_100 + 'b.e21.B1850CLM50SP.f09_g17.21ka.01.clm2.h0.FIRA.040101-050012.nc')[\"FIRA\"]\n",
    "sh = xr.open_dataset(lnd_dir_100 + 'b.e21.B1850CLM50SP.f09_g17.21ka.01.clm2.h0.FSH.040101-050012.nc')[\"FSH\"]\n",
    "lh = xr.open_dataset(lnd_dir_100 + 'b.e21.B1850CLM50SP.f09_g17.21ka.01.clm2.h0.QSOIL.040101-050012.nc')[\"QSOIL\"]/(2835*1000*1000*(1/1000)) # m/s / lhro\n",
    "fgr = xr.open_dataset(lnd_dir_100 + 'b.e21.B1850CLM50SP.f09_g17.21ka.01.clm2.h0.FGR.040101-050012.nc')[\"FGR\"]\n",
    "fsm = xr.open_dataset(lnd_dir_100 + 'b.e21.B1850CLM50SP.f09_g17.21ka.01.clm2.h0.FSM.040101-050012.nc')[\"FSM\"]\n",
    "snow = xr.open_dataset(lnd_dir_100 + 'b.e21.B1850CLM50SP.f09_g17.21ka.01.clm2.h0.SNOW.040101-050012.nc')[\"SNOW\"]/1000 #m/s\n",
    "qice = xr.open_dataset(lnd_dir_100 + 'b.e21.B1850CLM50SP.f09_g17.21ka.01.clm2.h0.QICE.040101-050012.nc')[\"QICE\"]/1000 #m/s\n",
    "pct_ice = xr.open_dataset(ice_dir + 'surfdata_fv09_hist_16pfts_nourb_CMIP6_21ka.c200624.nc')[\"PCT_GLACIER\"]\n",
    "lh = xr.open_dataset(lnd_dir_100 + 'b.e21.B1850CLM50SP.f09_g17.21ka.01.clm2.h0.QSOIL.040101-050012.nc')[\"QSOIL\"]/(2835*1000*1000*(1/1000)) # m/s / lhro\n",
    "e = xr.open_dataset(lnd_dir_100 + 'b.e21.B1850CLM50SP.f09_g17.21ka.01.clm2.h0.QSOIL.040101-050012.nc')[\"QSOIL\"]/1000\n"
   ]
  },
  {
   "cell_type": "code",
   "execution_count": 3,
   "id": "656984f5-7a35-4f48-a4e9-6ccadb6b6b9f",
   "metadata": {},
   "outputs": [],
   "source": [
    "gh = xr.DataArray(fsm - fgr)\n",
    "ps = xr.DataArray(snow)\n",
    "seb = (sw - lw - sh - lh + gh)\n",
    "melt = xr.where(seb > 0, seb / (334 * 1000 * 1000), 0)\n",
    "smb = ps - melt - e\n",
    "ice_mask = np.tile(xr.where(pct_ice == 100, 1, np.nan), (smb.shape[0], 1, 1))\n",
    "smb_all = smb*ice_mask"
   ]
  },
  {
   "cell_type": "code",
   "execution_count": 4,
   "id": "a56a3a84-a519-4d8c-ac69-efb042a6aea3",
   "metadata": {},
   "outputs": [
    {
     "name": "stdout",
     "output_type": "stream",
     "text": [
      "______________\n",
      "PROCESSING DATA\n",
      "converting to hecta pascals\n",
      "deseasonalizing\n",
      "slicing along lat=(20,80) and long=(-90,40)\n",
      "______________\n",
      "CONVERTING TO 2D\n",
      "time 1200 lat 64 long 105\n",
      "______________\n"
     ]
    }
   ],
   "source": [
    "print(\"______________\")\n",
    "print(\"PROCESSING DATA\")\n",
    "north_atlantic_ocean_psl = preprocess_na_ocean(psl_all)\n",
    "print(\"______________\")\n",
    "print(\"CONVERTING TO 2D\")\n",
    "time_length, lat_length, long_length = get_lengths(north_atlantic_ocean_psl)\n",
    "X_dimensional = north_atlantic_ocean_psl.values.reshape(time_length, lat_length * long_length)\n",
    "print(\"______________\")"
   ]
  },
  {
   "cell_type": "code",
   "execution_count": 5,
   "id": "a362621e-1c8f-45fe-942d-f71795753dcf",
   "metadata": {},
   "outputs": [
    {
     "name": "stdout",
     "output_type": "stream",
     "text": [
      "data saved\n"
     ]
    }
   ],
   "source": [
    "data = xr.Dataset(\n",
    "    {\n",
    "        \"data\": ([\"data\", \"month\"], X_dimensional),\n",
    "        \"lat_length\": ([], lat_length),\n",
    "        \"long_length\": ([], long_length),\n",
    "        \"original\": ([\"t\", \"lat\", \"lon\"], north_atlantic_ocean_psl.values),\n",
    "    },\n",
    "    coords={\n",
    "        \"t\": north_atlantic_ocean_psl.time,\n",
    "        \"lat\": north_atlantic_ocean_psl.lat,\n",
    "        \"lon\": north_atlantic_ocean_psl.lon,\n",
    "    }    \n",
    ")\n",
    "\n",
    "data.to_netcdf(\"psl_100_eq.nc\")\n",
    "print(\"data saved\")"
   ]
  },
  {
   "cell_type": "code",
   "execution_count": 6,
   "id": "452f397f-d26e-4fe8-9eb5-2e358718d94b",
   "metadata": {},
   "outputs": [
    {
     "name": "stdout",
     "output_type": "stream",
     "text": [
      "______________\n",
      "PROCESSING DATA\n",
      "converting data to m/s\n",
      "deseasonalizing data\n",
      "slicing data\n",
      "______________\n",
      "CONVERTING TO 2D\n",
      "time 1200 lat 64 long 101\n",
      "finished finding nans\n",
      "total nans 4578\n",
      "up through 0\n",
      "up through 50\n",
      "up through 100\n",
      "up through 150\n",
      "up through 200\n",
      "up through 250\n",
      "up through 500\n",
      "up through 550\n",
      "up through 600\n",
      "up through 850\n",
      "up through 900\n",
      "up through 950\n",
      "up through 1000\n",
      "up through 1050\n",
      "up through 1100\n",
      "up through 1150\n",
      "X shape (1886, 1200)\n",
      "______________\n"
     ]
    }
   ],
   "source": [
    "print(\"______________\")\n",
    "print(\"PROCESSING DATA\")\n",
    "smb_processed = preprocess_laurentide(smb_all)\n",
    "print(\"______________\")\n",
    "print(\"CONVERTING TO 2D\")\n",
    "smb_X_dimensional, smb_longs, smb_lats, smb_long_length, smb_lat_length = nans_3d_to_2d(smb_processed)\n",
    "print(\"______________\")"
   ]
  },
  {
   "cell_type": "code",
   "execution_count": 7,
   "id": "fb86b60f-9e43-4beb-9521-75fc45ca74e2",
   "metadata": {},
   "outputs": [
    {
     "name": "stdout",
     "output_type": "stream",
     "text": [
      "data saved\n"
     ]
    }
   ],
   "source": [
    "data = xr.Dataset(\n",
    "    {\n",
    "        \"data\": ([\"data\", \"month\"], smb_X_dimensional),\n",
    "        \"long_pos\":  ([\"long_pos\"], smb_longs), \n",
    "        \"lat_pos\":([\"lat_pos\"], smb_lats),\n",
    "        \"long_length\": ([], smb_long_length),\n",
    "        \"lat_length\": ([], smb_lat_length),\n",
    "        \"original\": ([\"t\", \"lat\", \"lon\"], smb_processed.values),\n",
    "    },\n",
    "    coords={\n",
    "        \"t\": smb_processed.time,\n",
    "        \"lat\": smb_processed.lat,\n",
    "        \"lon\": smb_processed.lon,\n",
    "    }   \n",
    "    \n",
    ")\n",
    "\n",
    "data.to_netcdf(\"laurentide_smb_100_eq.nc\")\n",
    "print(\"data saved\")"
   ]
  },
  {
   "cell_type": "code",
   "execution_count": 8,
   "id": "f5b83e0c-ce44-46ba-96ac-df08e27c3926",
   "metadata": {},
   "outputs": [
    {
     "name": "stdout",
     "output_type": "stream",
     "text": [
      "______________\n",
      "PROCESSING DATA\n",
      "converting data to m/s\n",
      "deseasonalizing data\n",
      "slicing data\n",
      "______________\n",
      "CONVERTING TO 2D\n",
      "time 1200 lat 34 long 52\n",
      "finished finding nans\n",
      "total nans 1207\n",
      "up through 0\n",
      "up through 50\n",
      "up through 100\n",
      "up through 150\n",
      "up through 200\n",
      "up through 250\n",
      "up through 300\n",
      "up through 350\n",
      "up through 400\n",
      "up through 450\n",
      "up through 500\n",
      "up through 550\n",
      "up through 600\n",
      "up through 650\n",
      "up through 700\n",
      "up through 750\n",
      "up through 800\n",
      "up through 850\n",
      "up through 900\n",
      "up through 950\n",
      "up through 1000\n",
      "up through 1050\n",
      "up through 1100\n",
      "up through 1150\n",
      "X shape (561, 1200)\n",
      "______________\n"
     ]
    }
   ],
   "source": [
    "print(\"______________\")\n",
    "print(\"PROCESSING DATA\")\n",
    "smb_processed = preprocess_greenland(smb_all)\n",
    "print(\"______________\")\n",
    "print(\"CONVERTING TO 2D\")\n",
    "smb_X_dimensional, smb_longs, smb_lats, smb_long_length, smb_lat_length = nans_3d_to_2d(smb_processed)\n",
    "print(\"______________\")"
   ]
  },
  {
   "cell_type": "code",
   "execution_count": 9,
   "id": "232727a6-5132-40e0-a027-6bc3e3689ec8",
   "metadata": {},
   "outputs": [
    {
     "name": "stdout",
     "output_type": "stream",
     "text": [
      "data saved\n"
     ]
    }
   ],
   "source": [
    "data = xr.Dataset(\n",
    "    {\n",
    "        \"data\": ([\"data\", \"month\"], smb_X_dimensional),\n",
    "        \"long_pos\":  ([\"long_pos\"], smb_longs), \n",
    "        \"lat_pos\":([\"lat_pos\"], smb_lats),\n",
    "        \"long_length\": ([], smb_long_length),\n",
    "        \"lat_length\": ([], smb_lat_length),\n",
    "        \"original\": ([\"t\", \"lat\", \"lon\"], smb_processed.values),\n",
    "    },\n",
    "    coords={\n",
    "        \"t\": smb_processed.time,\n",
    "        \"lat\": smb_processed.lat,\n",
    "        \"lon\": smb_processed.lon,\n",
    "    }   \n",
    "    \n",
    ")\n",
    "\n",
    "data.to_netcdf(\"greenland_smb_100_eq.nc\")\n",
    "print(\"data saved\")"
   ]
  },
  {
   "cell_type": "code",
   "execution_count": 10,
   "id": "781153c7-3d01-4661-90a1-b11700b4c59e",
   "metadata": {},
   "outputs": [
    {
     "name": "stdout",
     "output_type": "stream",
     "text": [
      "______________\n",
      "PROCESSING DATA\n",
      "converting data to m/s\n",
      "deseasonalizing data\n",
      "slicing data\n",
      "______________\n",
      "CONVERTING TO 2D\n",
      "time 1200 lat 43 long 102\n",
      "finished finding nans\n",
      "total nans 3405\n",
      "up through 0\n",
      "up through 50\n",
      "up through 100\n",
      "up through 150\n",
      "up through 200\n",
      "up through 250\n",
      "up through 300\n",
      "up through 350\n",
      "up through 400\n",
      "up through 450\n",
      "up through 500\n",
      "up through 550\n",
      "up through 600\n",
      "up through 650\n",
      "up through 700\n",
      "up through 750\n",
      "up through 800\n",
      "up through 850\n",
      "up through 900\n",
      "up through 950\n",
      "up through 1000\n",
      "up through 1050\n",
      "up through 1100\n",
      "up through 1150\n",
      "X shape (981, 1200)\n",
      "______________\n"
     ]
    }
   ],
   "source": [
    "print(\"______________\")\n",
    "print(\"PROCESSING DATA\")\n",
    "smb_processed = preprocess_eurasia(smb_all)\n",
    "print(\"______________\")\n",
    "print(\"CONVERTING TO 2D\")\n",
    "smb_X_dimensional, smb_longs, smb_lats, smb_long_length, smb_lat_length = nans_3d_to_2d(smb_processed)\n",
    "print(\"______________\")"
   ]
  },
  {
   "cell_type": "code",
   "execution_count": 11,
   "id": "3aec89b6-1733-4502-9a38-f9ea1e0ef15f",
   "metadata": {},
   "outputs": [
    {
     "name": "stdout",
     "output_type": "stream",
     "text": [
      "data saved\n"
     ]
    }
   ],
   "source": [
    "data = xr.Dataset(\n",
    "    {\n",
    "        \"data\": ([\"data\", \"month\"], smb_X_dimensional),\n",
    "        \"long_pos\":  ([\"long_pos\"], smb_longs), \n",
    "        \"lat_pos\":([\"lat_pos\"], smb_lats),\n",
    "        \"long_length\": ([], smb_long_length),\n",
    "        \"lat_length\": ([], smb_lat_length),\n",
    "        \"original\": ([\"t\", \"lat\", \"lon\"], smb_processed.values),\n",
    "    },\n",
    "    coords={\n",
    "        \"t\": smb_processed.time,\n",
    "        \"lat\": smb_processed.lat,\n",
    "        \"lon\": smb_processed.lon,\n",
    "    }   \n",
    "    \n",
    ")\n",
    "\n",
    "data.to_netcdf(\"eurasia_smb_100_eq.nc\")\n",
    "print(\"data saved\")"
   ]
  },
  {
   "cell_type": "code",
   "execution_count": null,
   "id": "a43dd442-167a-43cb-aee3-60d86ed20158",
   "metadata": {},
   "outputs": [],
   "source": []
  }
 ],
 "metadata": {
  "kernelspec": {
   "display_name": "NPL 2024b",
   "language": "python",
   "name": "npl-2024b"
  },
  "language_info": {
   "codemirror_mode": {
    "name": "ipython",
    "version": 3
   },
   "file_extension": ".py",
   "mimetype": "text/x-python",
   "name": "python",
   "nbconvert_exporter": "python",
   "pygments_lexer": "ipython3",
   "version": "3.11.9"
  }
 },
 "nbformat": 4,
 "nbformat_minor": 5
}
