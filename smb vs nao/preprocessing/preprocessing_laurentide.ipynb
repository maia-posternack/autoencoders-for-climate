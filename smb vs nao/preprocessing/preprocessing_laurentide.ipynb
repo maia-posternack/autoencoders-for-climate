{
 "cells": [
  {
   "cell_type": "code",
   "execution_count": 1,
   "id": "bc32efa8-d352-4948-952b-3f95c1a40667",
   "metadata": {},
   "outputs": [],
   "source": [
    "from functions import *"
   ]
  },
  {
   "cell_type": "code",
   "execution_count": 2,
   "id": "9bbfcd01-4ecd-410e-b2ab-aab27643a396",
   "metadata": {},
   "outputs": [],
   "source": [
    "psl_all = xr.open_dataset(atm_dir_100 + 'b.e21.B1850CLM50SP.f09_g17.21ka.01.cam.h0.PSL.040101-050012.nc')['PSL']\n",
    "smb_all = xr.open_dataset(lnd_dir_100 + 'b.e21.B1850CLM50SP.f09_g17.21ka.01.clm2.h0.QICE.040101-050012.nc')[\"QICE\"]\n",
    "qice_melt_all = xr.open_dataset(lnd_dir_100 + 'b.e21.B1850CLM50SP.f09_g17.21ka.01.clm2.h0.QICE_MELT.040101-050012.nc')[\"QICE_MELT\"]"
   ]
  },
  {
   "cell_type": "code",
   "execution_count": 5,
   "id": "a56a3a84-a519-4d8c-ac69-efb042a6aea3",
   "metadata": {},
   "outputs": [
    {
     "name": "stdout",
     "output_type": "stream",
     "text": [
      "______________\n",
      "PROCESSING DATA\n",
      "converting to hecta pascals\n",
      "deseasonalizing\n",
      "slicing along lat=(20,80) and long=(-90,40)\n",
      "______________\n",
      "CONVERTING TO 2D\n",
      "time 1200 lat 64 long 105\n",
      "______________\n"
     ]
    }
   ],
   "source": [
    "print(\"______________\")\n",
    "print(\"PROCESSING DATA\")\n",
    "north_atlantic_ocean_psl = preprocess_na_ocean(psl_all)\n",
    "print(\"______________\")\n",
    "print(\"CONVERTING TO 2D\")\n",
    "time_length, lat_length, long_length = get_lengths(north_atlantic_ocean_psl)\n",
    "X_dimensional = north_atlantic_ocean_psl.values.reshape(time_length, lat_length * long_length)\n",
    "print(\"______________\")"
   ]
  },
  {
   "cell_type": "code",
   "execution_count": 7,
   "id": "a362621e-1c8f-45fe-942d-f71795753dcf",
   "metadata": {},
   "outputs": [
    {
     "name": "stdout",
     "output_type": "stream",
     "text": [
      "data saved\n"
     ]
    }
   ],
   "source": [
    "data = xr.Dataset(\n",
    "    {\n",
    "        \"data\": ([\"data\", \"month\"], X_dimensional),\n",
    "        \"lat_length\": ([], lat_length),\n",
    "        \"long_length\": ([], long_length),\n",
    "        \"original\": ([\"t\", \"lat\", \"lon\"], north_atlantic_ocean_psl.values),\n",
    "    },\n",
    "    coords={\n",
    "        \"t\": north_atlantic_ocean_psl.time,\n",
    "        \"lat\": north_atlantic_ocean_psl.lat,\n",
    "        \"lon\": north_atlantic_ocean_psl.lon,\n",
    "    }    \n",
    ")\n",
    "\n",
    "data.to_netcdf(\"psl_100.nc\")\n",
    "print(\"data saved\")"
   ]
  },
  {
   "cell_type": "code",
   "execution_count": 8,
   "id": "452f397f-d26e-4fe8-9eb5-2e358718d94b",
   "metadata": {},
   "outputs": [
    {
     "name": "stdout",
     "output_type": "stream",
     "text": [
      "______________\n",
      "PROCESSING DATA\n",
      "converting data to m/s\n",
      "deseasonalizing data\n",
      "slicing data\n",
      "______________\n",
      "CONVERTING TO 2D\n",
      "time 1200 lat 64 long 101\n",
      "finished finding nans\n",
      "total nans 4061\n",
      "up through 0\n",
      "up through 50\n",
      "up through 100\n",
      "up through 150\n",
      "up through 200\n",
      "up through 250\n",
      "up through 300\n",
      "up through 350\n",
      "up through 400\n",
      "up through 450\n",
      "up through 500\n",
      "up through 550\n",
      "up through 600\n",
      "up through 650\n",
      "up through 700\n",
      "up through 750\n",
      "up through 800\n",
      "up through 850\n",
      "up through 900\n",
      "up through 950\n",
      "up through 1000\n",
      "up through 1050\n",
      "up through 1100\n",
      "up through 1150\n",
      "X shape (2403, 1200)\n",
      "______________\n"
     ]
    }
   ],
   "source": [
    "print(\"______________\")\n",
    "print(\"PROCESSING DATA\")\n",
    "smb_processed = preprocess_laurentide(smb_all)\n",
    "print(\"______________\")\n",
    "print(\"CONVERTING TO 2D\")\n",
    "smb_X_dimensional, smb_im, smb_lats, smb_long_length, smb_lat_length = nans_3d_to_2d(smb_processed)\n",
    "print(\"______________\")"
   ]
  },
  {
   "cell_type": "code",
   "execution_count": 9,
   "id": "fb86b60f-9e43-4beb-9521-75fc45ca74e2",
   "metadata": {},
   "outputs": [
    {
     "name": "stdout",
     "output_type": "stream",
     "text": [
      "data saved\n"
     ]
    }
   ],
   "source": [
    "data = xr.Dataset(\n",
    "    {\n",
    "        \"data\": ([\"data\", \"month\"], smb_X_dimensional),\n",
    "        \"long_pos\":  ([\"long_pos\"], smb_longs), \n",
    "        \"lat_pos\":([\"lat_pos\"], smb_lats),\n",
    "        \"long_length\": ([], smb_long_length),\n",
    "        \"lat_length\": ([], smb_lat_length),\n",
    "        \"original\": ([\"t\", \"lat\", \"lon\"], smb_processed.values),\n",
    "    },\n",
    "    coords={\n",
    "        \"t\": smb_processed.time,\n",
    "        \"lat\": smb_processed.lat,\n",
    "        \"lon\": smb_processed.lon,\n",
    "    }   \n",
    "    \n",
    ")\n",
    "\n",
    "data.to_netcdf(\"laurentide_qice_no_mask_100.nc\")\n",
    "print(\"data saved\")"
   ]
  },
  {
   "cell_type": "code",
   "execution_count": 10,
   "id": "edfc3122-5cb4-4657-9844-1d8db0c034a5",
   "metadata": {},
   "outputs": [
    {
     "name": "stdout",
     "output_type": "stream",
     "text": [
      "______________\n",
      "PROCESSING DATA\n",
      "converting data to m/s\n",
      "deseasonalizing data\n",
      "slicing data\n",
      "______________\n",
      "CONVERTING TO 2D\n",
      "time 1200 lat 64 long 101\n",
      "finished finding nans\n",
      "total nans 4061\n",
      "up through 0\n",
      "up through 50\n",
      "up through 100\n",
      "up through 150\n",
      "up through 200\n",
      "up through 250\n",
      "up through 300\n",
      "up through 350\n",
      "up through 400\n",
      "up through 450\n",
      "up through 500\n",
      "up through 550\n",
      "up through 600\n",
      "up through 650\n",
      "up through 700\n",
      "up through 750\n",
      "up through 800\n",
      "up through 850\n",
      "up through 900\n",
      "up through 950\n",
      "up through 1000\n",
      "up through 1050\n",
      "up through 1100\n",
      "up through 1150\n",
      "X shape (2403, 1200)\n",
      "______________\n"
     ]
    }
   ],
   "source": [
    "print(\"______________\")\n",
    "print(\"PROCESSING DATA\")\n",
    "qice_melt_processed = preprocess_laurentide(qice_melt_all)\n",
    "print(\"______________\")\n",
    "print(\"CONVERTING TO 2D\")\n",
    "qice_melt_X_dimensional, qice_melt_longs, qice_melt_lats, qice_melt_long_length, qice_melt_lat_length = nans_3d_to_2d(qice_melt_processed)\n",
    "print(\"______________\")"
   ]
  },
  {
   "cell_type": "code",
   "execution_count": 11,
   "id": "6c4ece7e-d889-43de-bb2c-1bd27b88bfa9",
   "metadata": {},
   "outputs": [
    {
     "name": "stdout",
     "output_type": "stream",
     "text": [
      "data saved\n"
     ]
    }
   ],
   "source": [
    "data = xr.Dataset(\n",
    "    {\n",
    "        \"data\": ([\"data\", \"time\"], qice_melt_X_dimensional),\n",
    "        \"long_pos\":  ([\"long_pos\"], qice_melt_longs), \n",
    "        \"lat_pos\":([\"lat_pos\"], qice_melt_lats),\n",
    "        \"long_length\": ([], qice_melt_long_length),\n",
    "        \"lat_length\": ([], qice_melt_lat_length),\n",
    "        \"original\": ([\"t\", \"lat\", \"lon\"], qice_melt_processed.values),\n",
    "    },\n",
    "    coords={\n",
    "        \"t\": qice_melt_processed.time,\n",
    "        \"lat\": qice_melt_processed.lat,\n",
    "        \"lon\": qice_melt_processed.lon,\n",
    "    }  \n",
    "    \n",
    ")\n",
    "\n",
    "data.to_netcdf(\"laurentide_qice_melt_no_mask_100.nc\")\n",
    "print(\"data saved\")"
   ]
  },
  {
   "cell_type": "code",
   "execution_count": 12,
   "id": "fe7408e8-0c59-416c-968d-1c53f1ae7fc5",
   "metadata": {},
   "outputs": [
    {
     "name": "stdout",
     "output_type": "stream",
     "text": [
      "______________\n",
      "PROCESSING DATA\n",
      "converting data to m/s\n",
      "deseasonalizing data\n",
      "adding ice mask\n",
      "slicing data\n",
      "______________\n",
      "CONVERTING TO 2D\n",
      "time 1200 lat 64 long 101\n",
      "finished finding nans\n",
      "total nans 4578\n",
      "up through 0\n",
      "up through 50\n",
      "up through 100\n",
      "up through 150\n",
      "up through 200\n",
      "up through 250\n",
      "up through 300\n",
      "up through 350\n",
      "up through 400\n",
      "up through 450\n",
      "up through 500\n",
      "up through 550\n",
      "up through 600\n",
      "up through 650\n",
      "up through 700\n",
      "up through 750\n",
      "up through 800\n",
      "up through 850\n",
      "up through 900\n",
      "up through 950\n",
      "up through 1000\n",
      "up through 1050\n",
      "up through 1100\n",
      "up through 1150\n",
      "X shape (1886, 1200)\n"
     ]
    }
   ],
   "source": [
    "print(\"______________\")\n",
    "print(\"PROCESSING DATA\")\n",
    "smb_100_ice = preprocess_laurentide(smb_all, create_ice_mask(smb_all))\n",
    "print(\"______________\")\n",
    "print(\"CONVERTING TO 2D\")\n",
    "smb100_X_dimensional, smb100_longs, smb100_lats, smb100_long_length, smb100_lat_length = nans_3d_to_2d(smb_100_ice)"
   ]
  },
  {
   "cell_type": "code",
   "execution_count": 13,
   "id": "0748e6b9-8070-44ae-a7bb-a26fa410ec19",
   "metadata": {},
   "outputs": [
    {
     "name": "stdout",
     "output_type": "stream",
     "text": [
      "data saved\n"
     ]
    }
   ],
   "source": [
    "data = xr.Dataset(\n",
    "    {\n",
    "        \"data\": ([\"data\", \"year\"], smb100_X_dimensional),\n",
    "        \"long_pos\":  ([\"long_pos\"], smb100_longs), \n",
    "        \"lat_pos\":([\"lat_pos\"], smb100_lats),\n",
    "        \"long_length\": ([], smb100_long_length),\n",
    "        \"lat_length\": ([], smb100_lat_length),\n",
    "        \"original\": ([\"t\", \"lat\", \"lon\"], smb_100_ice.values),\n",
    "    },\n",
    "    coords={\n",
    "        \"t\": smb_100_ice.time,\n",
    "        \"lat\": smb_100_ice.lat,\n",
    "        \"lon\": smb_100_ice.lon,\n",
    "    }  \n",
    ")\n",
    "\n",
    "data.to_netcdf(\"laurentide_qice_with_mask_100.nc\")\n",
    "print(\"data saved\")"
   ]
  },
  {
   "cell_type": "code",
   "execution_count": 14,
   "id": "af7245c7-c06e-4ee0-909c-13f9fcc61232",
   "metadata": {},
   "outputs": [
    {
     "name": "stdout",
     "output_type": "stream",
     "text": [
      "______________\n",
      "PROCESSING DATA\n",
      "converting data to m/s\n",
      "deseasonalizing data\n",
      "adding ice mask\n",
      "slicing data\n",
      "______________\n",
      "CONVERTING TO 2D\n",
      "time 1200 lat 64 long 101\n",
      "finished finding nans\n",
      "total nans 4578\n",
      "up through 0\n",
      "up through 50\n",
      "up through 100\n",
      "up through 150\n",
      "up through 200\n",
      "up through 250\n",
      "up through 300\n",
      "up through 350\n",
      "up through 400\n",
      "up through 450\n",
      "up through 500\n",
      "up through 550\n",
      "up through 600\n",
      "up through 650\n",
      "up through 700\n",
      "up through 750\n",
      "up through 800\n",
      "up through 850\n",
      "up through 900\n",
      "up through 950\n",
      "up through 1000\n",
      "up through 1050\n",
      "up through 1100\n",
      "up through 1150\n",
      "X shape (1886, 1200)\n",
      "______________\n"
     ]
    }
   ],
   "source": [
    "print(\"______________\")\n",
    "print(\"PROCESSING DATA\")\n",
    "qice_melt_100_processed = preprocess_laurentide(qice_melt_all, create_ice_mask(qice_melt_all))\n",
    "print(\"______________\")\n",
    "print(\"CONVERTING TO 2D\")\n",
    "qice_melt_100_X_dimensional, qice_melt_100_longs, qice_melt_100_lats, qice_melt_100_long_length, qice_melt_100_lat_length = nans_3d_to_2d(qice_melt_100_processed)\n",
    "print(\"______________\")"
   ]
  },
  {
   "cell_type": "code",
   "execution_count": 15,
   "id": "8755c26f-7db1-454a-b297-4e4b6f4f7971",
   "metadata": {},
   "outputs": [
    {
     "name": "stdout",
     "output_type": "stream",
     "text": [
      "data saved\n"
     ]
    }
   ],
   "source": [
    "data = xr.Dataset(\n",
    "    {\n",
    "        \"data\": ([\"data\", \"year\"], qice_melt_100_X_dimensional),\n",
    "        \"long_pos\":  ([\"long_pos\"], qice_melt_100_longs), \n",
    "        \"lat_pos\":([\"lat_pos\"], qice_melt_100_lats),\n",
    "        \"long_length\": ([], qice_melt_100_long_length),\n",
    "        \"lat_length\": ([], qice_melt_100_lat_length),\n",
    "        \"original\": ([\"t\", \"lat\", \"lon\"], qice_melt_100_processed.values),\n",
    "    },\n",
    "    coords={\n",
    "        \"t\": qice_melt_100_processed.time,\n",
    "        \"lat\": qice_melt_100_processed.lat,\n",
    "        \"lon\": qice_melt_100_processed.lon,\n",
    "    }  \n",
    ")\n",
    "\n",
    "data.to_netcdf(\"laurentide_qice_melt_with_mask_100.nc\")\n",
    "print(\"data saved\")"
   ]
  }
 ],
 "metadata": {
  "kernelspec": {
   "display_name": "NPL 2024b",
   "language": "python",
   "name": "npl-2024b"
  },
  "language_info": {
   "codemirror_mode": {
    "name": "ipython",
    "version": 3
   },
   "file_extension": ".py",
   "mimetype": "text/x-python",
   "name": "python",
   "nbconvert_exporter": "python",
   "pygments_lexer": "ipython3",
   "version": "3.11.9"
  }
 },
 "nbformat": 4,
 "nbformat_minor": 5
}
